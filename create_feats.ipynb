{
 "cells": [
  {
   "cell_type": "code",
   "execution_count": 10,
   "metadata": {},
   "outputs": [],
   "source": [
    "import pandas as pd"
   ]
  },
  {
   "cell_type": "code",
   "execution_count": 7,
   "metadata": {},
   "outputs": [],
   "source": [
    "onset_art = [\"Frik\", \"Nas\", \"Plo\", \"Trill\"]\n",
    "onset_ort = [\"Alv\", \"Bilab\", \"LabDent\", \"PostAlv\", \"Uvul\", \"Vel\"]\n",
    "\n",
    "coda_art = [\"Frik\", \"Lat\", \"Nas\", \"Uvul\"]\n",
    "coda_ort = [\"Alv\", \"Bilab\", \"Pal\", \"Trill\", \"Vel\"]\n",
    "\n",
    "st = [\"onset_stimmhaft\", \"onset_stimmlos\", \"coda_stimmhaft\", \"coda_stimmlos\"]"
   ]
  },
  {
   "cell_type": "code",
   "execution_count": 12,
   "metadata": {},
   "outputs": [],
   "source": [
    "feats = []\n",
    "for feat in onset_art:\n",
    "    feats.append(\"onset_art_\"+feat)\n",
    "for feat in onset_ort:\n",
    "    feats.append(\"onset_ort_\"+feat)\n",
    "for feat in coda_art:\n",
    "    feats.append(\"coda_art_\"+feat)\n",
    "for feat in coda_ort:\n",
    "    feats.append(\"coda_ort_\"+feat)\n",
    "for feat in st:\n",
    "    feats.append(feat)\n",
    "    \n",
    "feats = pd.Series(feats)"
   ]
  },
  {
   "cell_type": "code",
   "execution_count": 14,
   "metadata": {},
   "outputs": [],
   "source": [
    "feats.to_excel(\"feats.xlsx\")"
   ]
  },
  {
   "cell_type": "code",
   "execution_count": null,
   "metadata": {},
   "outputs": [],
   "source": []
  }
 ],
 "metadata": {
  "kernelspec": {
   "display_name": "Python 3",
   "language": "python",
   "name": "python3"
  },
  "language_info": {
   "codemirror_mode": {
    "name": "ipython",
    "version": 3
   },
   "file_extension": ".py",
   "mimetype": "text/x-python",
   "name": "python",
   "nbconvert_exporter": "python",
   "pygments_lexer": "ipython3",
   "version": "3.8.5"
  }
 },
 "nbformat": 4,
 "nbformat_minor": 4
}
