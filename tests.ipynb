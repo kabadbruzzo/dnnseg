{
 "cells": [
  {
   "cell_type": "markdown",
   "metadata": {},
   "source": [
    "# To do:\n",
    "\n",
    "- build dataset\n",
    "- test `AcousticDatafile(test.wav)` and `segments` method\n",
    "- test `AcousticDataset(directory)` and `segments` method"
   ]
  },
  {
   "cell_type": "code",
   "execution_count": 1,
   "metadata": {},
   "outputs": [],
   "source": [
    "from model.dnnseg.data import AcousticDatafile, AcousticDataset"
   ]
  },
  {
   "cell_type": "code",
   "execution_count": 2,
   "metadata": {},
   "outputs": [],
   "source": [
    "import os"
   ]
  },
  {
   "cell_type": "code",
   "execution_count": 15,
   "metadata": {},
   "outputs": [],
   "source": [
    "os.chdir(\"D:/model/german/\")"
   ]
  },
  {
   "cell_type": "code",
   "execution_count": 16,
   "metadata": {},
   "outputs": [],
   "source": [
    "file_names = [x[:-4] for x in os.listdir() if x.endswith(\".wav\")][:8]"
   ]
  },
  {
   "cell_type": "code",
   "execution_count": 17,
   "metadata": {},
   "outputs": [
    {
     "data": {
      "text/plain": [
       "['de2_e_b01_v0102301011111',\n",
       " 'de2_e_b01_v0102301011112',\n",
       " 'de2_e_b01_v0102301011113',\n",
       " 'de2_e_b01_v0102301011114',\n",
       " 'de2_e_b01_v0102301011115',\n",
       " 'de2_e_b01_v0102301011116',\n",
       " 'de2_e_b01_v0102301011117',\n",
       " 'de2_e_b01_v0102301011118']"
      ]
     },
     "execution_count": 17,
     "metadata": {},
     "output_type": "execute_result"
    }
   ],
   "source": [
    "file_names"
   ]
  },
  {
   "cell_type": "code",
   "execution_count": 7,
   "metadata": {},
   "outputs": [
    {
     "name": "stderr",
     "output_type": "stream",
     "text": [
      "Processing file \"de2_e_b...\" 8/8       |    ETA - 0s     \n"
     ]
    }
   ],
   "source": [
    "dataset = AcousticDataset(\"D:/tests/\")"
   ]
  },
  {
   "cell_type": "markdown",
   "metadata": {},
   "source": [
    "Solving issue in .inputs and .targets methods inside AcousticDataset class.\n",
    "Notes: `.inputs` and `.targets` only call `.segment_and_stack`, once as `padding = 'pre'` and once `padding = 'post'`\n",
    "# To do:\n",
    "- test `.segment_and_stack`from `AcousticDataset` outside of script \n",
    "- test `.inputs` and `.targets` outside of script\n",
    "- UNDERSTAND what this does"
   ]
  },
  {
   "cell_type": "code",
   "execution_count": 23,
   "metadata": {},
   "outputs": [
    {
     "name": "stdout",
     "output_type": "stream",
     "text": [
      "\n",
      " ####### using method .segment_and_stack from AcousticDataset ###### \n",
      "\n",
      "\n",
      " ####### using method .segment_and_stack from AcousticDatafile ###### \n",
      "\n",
      "\n",
      " ####### using method .segment_and_stack from AcousticDatafile ###### \n",
      "\n",
      "\n",
      " ####### using method .segment_and_stack from AcousticDatafile ###### \n",
      "\n",
      "\n",
      " ####### using method .segment_and_stack from AcousticDatafile ###### \n",
      "\n",
      "\n",
      " ####### using method .segment_and_stack from AcousticDatafile ###### \n",
      "\n",
      "\n",
      " ####### using method .segment_and_stack from AcousticDatafile ###### \n",
      "\n",
      "\n",
      " ####### using method .segment_and_stack from AcousticDatafile ###### \n",
      "\n",
      "\n",
      " ####### using method .segment_and_stack from AcousticDatafile ###### \n",
      "\n"
     ]
    },
    {
     "data": {
      "text/plain": [
       "(array([], shape=(8, 0, 13), dtype=float64),\n",
       " array([], shape=(8, 0), dtype=float64))"
      ]
     },
     "execution_count": 23,
     "metadata": {},
     "output_type": "execute_result"
    }
   ],
   "source": [
    "dataset.targets()"
   ]
  },
  {
   "cell_type": "code",
   "execution_count": null,
   "metadata": {},
   "outputs": [],
   "source": [
    "print(\"a \\n b\")"
   ]
  },
  {
   "cell_type": "code",
   "execution_count": 24,
   "metadata": {},
   "outputs": [
    {
     "name": "stdout",
     "output_type": "stream",
     "text": [
      "\n",
      " ####### using method .segment_and_stack from AcousticDataset ###### \n",
      "\n",
      "\n",
      " ####### using method .segment_and_stack from AcousticDatafile ###### \n",
      "\n",
      "\n",
      " ####### using method .segment_and_stack from AcousticDatafile ###### \n",
      "\n",
      "\n",
      " ####### using method .segment_and_stack from AcousticDatafile ###### \n",
      "\n",
      "\n",
      " ####### using method .segment_and_stack from AcousticDatafile ###### \n",
      "\n",
      "\n",
      " ####### using method .segment_and_stack from AcousticDatafile ###### \n",
      "\n",
      "\n",
      " ####### using method .segment_and_stack from AcousticDatafile ###### \n",
      "\n",
      "\n",
      " ####### using method .segment_and_stack from AcousticDatafile ###### \n",
      "\n",
      "\n",
      " ####### using method .segment_and_stack from AcousticDatafile ###### \n",
      "\n"
     ]
    },
    {
     "ename": "ValueError",
     "evalue": "all the input array dimensions for the concatenation axis must match exactly, but along dimension 1, the array at index 0 has size 43510 and the array at index 1 has size 56370",
     "output_type": "error",
     "traceback": [
      "\u001b[1;31m---------------------------------------------------------------------------\u001b[0m",
      "\u001b[1;31mValueError\u001b[0m                                Traceback (most recent call last)",
      "\u001b[1;32m<ipython-input-24-4e6146236ffd>\u001b[0m in \u001b[0;36m<module>\u001b[1;34m\u001b[0m\n\u001b[1;32m----> 1\u001b[1;33m \u001b[0mdataset\u001b[0m\u001b[1;33m.\u001b[0m\u001b[0msegment_and_stack\u001b[0m\u001b[1;33m(\u001b[0m\u001b[1;33m)\u001b[0m\u001b[1;33m\u001b[0m\u001b[1;33m\u001b[0m\u001b[0m\n\u001b[0m",
      "\u001b[1;32mD:\\model\\dnnseg\\data.py\u001b[0m in \u001b[0;36msegment_and_stack\u001b[1;34m(self, segments, max_len, padding, reverse, normalize, center, with_deltas, resample)\u001b[0m\n\u001b[0;32m    751\u001b[0m \u001b[1;33m\u001b[0m\u001b[0m\n\u001b[0;32m    752\u001b[0m             \u001b[0mfeats\u001b[0m \u001b[1;33m=\u001b[0m \u001b[0mnp\u001b[0m\u001b[1;33m.\u001b[0m\u001b[0mconcatenate\u001b[0m\u001b[1;33m(\u001b[0m\u001b[0mfeats\u001b[0m\u001b[1;33m,\u001b[0m \u001b[0maxis\u001b[0m\u001b[1;33m=\u001b[0m\u001b[1;36m0\u001b[0m\u001b[1;33m)\u001b[0m\u001b[1;33m\u001b[0m\u001b[1;33m\u001b[0m\u001b[0m\n\u001b[1;32m--> 753\u001b[1;33m             \u001b[0mmask\u001b[0m \u001b[1;33m=\u001b[0m \u001b[0mnp\u001b[0m\u001b[1;33m.\u001b[0m\u001b[0mconcatenate\u001b[0m\u001b[1;33m(\u001b[0m\u001b[0mmask\u001b[0m\u001b[1;33m,\u001b[0m \u001b[0maxis\u001b[0m\u001b[1;33m=\u001b[0m\u001b[1;36m0\u001b[0m\u001b[1;33m)\u001b[0m\u001b[1;33m\u001b[0m\u001b[1;33m\u001b[0m\u001b[0m\n\u001b[0m\u001b[0;32m    754\u001b[0m \u001b[1;33m\u001b[0m\u001b[0m\n\u001b[0;32m    755\u001b[0m         \u001b[1;32mreturn\u001b[0m \u001b[0mfeats\u001b[0m\u001b[1;33m,\u001b[0m \u001b[0mmask\u001b[0m\u001b[1;33m\u001b[0m\u001b[1;33m\u001b[0m\u001b[0m\n",
      "\u001b[1;32m<__array_function__ internals>\u001b[0m in \u001b[0;36mconcatenate\u001b[1;34m(*args, **kwargs)\u001b[0m\n",
      "\u001b[1;31mValueError\u001b[0m: all the input array dimensions for the concatenation axis must match exactly, but along dimension 1, the array at index 0 has size 43510 and the array at index 1 has size 56370"
     ]
    }
   ],
   "source": [
    "dataset.segment_and_stack()"
   ]
  },
  {
   "cell_type": "code",
   "execution_count": null,
   "metadata": {},
   "outputs": [],
   "source": [
    "dataset.inputs()"
   ]
  },
  {
   "cell_type": "code",
   "execution_count": 39,
   "metadata": {},
   "outputs": [
    {
     "name": "stdout",
     "output_type": "stream",
     "text": [
      "\n",
      " ####### using method .segment_and_stack from AcousticDatafile ###### \n",
      "\n"
     ]
    },
    {
     "data": {
      "text/plain": [
       "array([], shape=(1, 0, 39), dtype=float32)"
      ]
     },
     "execution_count": 39,
     "metadata": {},
     "output_type": "execute_result"
    }
   ],
   "source": [
    "ex_datafile.segment_and_stack()[0]"
   ]
  },
  {
   "cell_type": "code",
   "execution_count": 26,
   "metadata": {},
   "outputs": [
    {
     "data": {
      "text/html": [
       "<div>\n",
       "<style scoped>\n",
       "    .dataframe tbody tr th:only-of-type {\n",
       "        vertical-align: middle;\n",
       "    }\n",
       "\n",
       "    .dataframe tbody tr th {\n",
       "        vertical-align: top;\n",
       "    }\n",
       "\n",
       "    .dataframe thead th {\n",
       "        text-align: right;\n",
       "    }\n",
       "</style>\n",
       "<table border=\"1\" class=\"dataframe\">\n",
       "  <thead>\n",
       "    <tr style=\"text-align: right;\">\n",
       "      <th></th>\n",
       "      <th>fileID</th>\n",
       "      <th>start</th>\n",
       "      <th>end</th>\n",
       "      <th>speaker</th>\n",
       "      <th>label</th>\n",
       "    </tr>\n",
       "  </thead>\n",
       "  <tbody>\n",
       "    <tr>\n",
       "      <th>0</th>\n",
       "      <td>de2_e_b01_v0102301011111</td>\n",
       "      <td>563.5</td>\n",
       "      <td>998.598</td>\n",
       "      <td>v01</td>\n",
       "      <td>0</td>\n",
       "    </tr>\n",
       "  </tbody>\n",
       "</table>\n",
       "</div>"
      ],
      "text/plain": [
       "                     fileID  start      end speaker  label\n",
       "0  de2_e_b01_v0102301011111  563.5  998.598     v01      0"
      ]
     },
     "execution_count": 26,
     "metadata": {},
     "output_type": "execute_result"
    }
   ],
   "source": [
    "ex_datafile.vad_segments"
   ]
  },
  {
   "cell_type": "code",
   "execution_count": 27,
   "metadata": {},
   "outputs": [
    {
     "data": {
      "text/html": [
       "<div>\n",
       "<style scoped>\n",
       "    .dataframe tbody tr th:only-of-type {\n",
       "        vertical-align: middle;\n",
       "    }\n",
       "\n",
       "    .dataframe tbody tr th {\n",
       "        vertical-align: top;\n",
       "    }\n",
       "\n",
       "    .dataframe thead th {\n",
       "        text-align: right;\n",
       "    }\n",
       "</style>\n",
       "<table border=\"1\" class=\"dataframe\">\n",
       "  <thead>\n",
       "    <tr style=\"text-align: right;\">\n",
       "      <th></th>\n",
       "      <th>fileID</th>\n",
       "      <th>start</th>\n",
       "      <th>end</th>\n",
       "      <th>speaker</th>\n",
       "      <th>label</th>\n",
       "    </tr>\n",
       "  </thead>\n",
       "  <tbody>\n",
       "    <tr>\n",
       "      <th>0</th>\n",
       "      <td>de2_e_b01_v0102301011111</td>\n",
       "      <td>563.5</td>\n",
       "      <td>998.598</td>\n",
       "      <td>v01</td>\n",
       "      <td>zUN</td>\n",
       "    </tr>\n",
       "  </tbody>\n",
       "</table>\n",
       "</div>"
      ],
      "text/plain": [
       "                     fileID  start      end speaker label\n",
       "0  de2_e_b01_v0102301011111  563.5  998.598     v01   zUN"
      ]
     },
     "execution_count": 27,
     "metadata": {},
     "output_type": "execute_result"
    }
   ],
   "source": [
    "ex_datafile.wrd_segments"
   ]
  },
  {
   "cell_type": "code",
   "execution_count": 28,
   "metadata": {},
   "outputs": [
    {
     "data": {
      "text/html": [
       "<div>\n",
       "<style scoped>\n",
       "    .dataframe tbody tr th:only-of-type {\n",
       "        vertical-align: middle;\n",
       "    }\n",
       "\n",
       "    .dataframe tbody tr th {\n",
       "        vertical-align: top;\n",
       "    }\n",
       "\n",
       "    .dataframe thead th {\n",
       "        text-align: right;\n",
       "    }\n",
       "</style>\n",
       "<table border=\"1\" class=\"dataframe\">\n",
       "  <thead>\n",
       "    <tr style=\"text-align: right;\">\n",
       "      <th></th>\n",
       "      <th>fileID</th>\n",
       "      <th>start</th>\n",
       "      <th>end</th>\n",
       "      <th>speaker</th>\n",
       "      <th>label</th>\n",
       "    </tr>\n",
       "  </thead>\n",
       "  <tbody>\n",
       "    <tr>\n",
       "      <th>0</th>\n",
       "      <td>de2_e_b01_v0102301011111</td>\n",
       "      <td>563.5</td>\n",
       "      <td>998.598</td>\n",
       "      <td>v01</td>\n",
       "      <td>0</td>\n",
       "    </tr>\n",
       "  </tbody>\n",
       "</table>\n",
       "</div>"
      ],
      "text/plain": [
       "                     fileID  start      end speaker  label\n",
       "0  de2_e_b01_v0102301011111  563.5  998.598     v01      0"
      ]
     },
     "execution_count": 28,
     "metadata": {},
     "output_type": "execute_result"
    }
   ],
   "source": [
    "ex_datafile.phn_segments"
   ]
  },
  {
   "cell_type": "code",
   "execution_count": 29,
   "metadata": {},
   "outputs": [
    {
     "data": {
      "text/plain": [
       "10"
      ]
     },
     "execution_count": 29,
     "metadata": {},
     "output_type": "execute_result"
    }
   ],
   "source": [
    "ex_datafile.offset"
   ]
  },
  {
   "cell_type": "code",
   "execution_count": 30,
   "metadata": {},
   "outputs": [
    {
     "data": {
      "text/plain": [
       "array([[-4.52776520e+02,  3.41991043e+01,  3.36344194e+00, ...,\n",
       "        -1.03194904e+00, -1.25850701e+00, -9.17193711e-01],\n",
       "       [-4.20569885e+02,  5.99578629e+01,  1.00894375e+01, ...,\n",
       "        -1.03194904e+00, -1.25850701e+00, -9.17193711e-01],\n",
       "       [-4.22155487e+02,  4.74849319e+01,  3.20404053e-01, ...,\n",
       "        -1.03194904e+00, -1.25850701e+00, -9.17193711e-01],\n",
       "       ...,\n",
       "       [-4.19145386e+02,  6.01180573e+01,  1.87813282e+01, ...,\n",
       "         1.77842450e+00,  7.18351901e-01, -5.94398938e-02],\n",
       "       [-4.31988190e+02,  5.05042000e+01,  9.05359364e+00, ...,\n",
       "         1.77842450e+00,  7.18351901e-01, -5.94398938e-02],\n",
       "       [-4.45319092e+02,  4.21384048e+01,  2.21631775e+01, ...,\n",
       "         1.77842450e+00,  7.18351901e-01, -5.94398938e-02]], dtype=float32)"
      ]
     },
     "execution_count": 30,
     "metadata": {},
     "output_type": "execute_result"
    }
   ],
   "source": [
    "ex_datafile.feats"
   ]
  },
  {
   "cell_type": "code",
   "execution_count": 31,
   "metadata": {},
   "outputs": [
    {
     "data": {
      "text/plain": [
       "(149, 39)"
      ]
     },
     "execution_count": 31,
     "metadata": {},
     "output_type": "execute_result"
    }
   ],
   "source": [
    "ex_datafile.feats.shape"
   ]
  },
  {
   "cell_type": "code",
   "execution_count": 33,
   "metadata": {},
   "outputs": [],
   "source": [
    "import numpy as np"
   ]
  },
  {
   "cell_type": "code",
   "execution_count": 34,
   "metadata": {},
   "outputs": [],
   "source": [
    "bounds = np.array(np.rint((ex_datafile.wrd_segments[['start', 'end']] * 1000 / ex_datafile.offset)), dtype=np.int32)"
   ]
  },
  {
   "cell_type": "code",
   "execution_count": 35,
   "metadata": {},
   "outputs": [
    {
     "data": {
      "text/plain": [
       "array([[56350, 99860]])"
      ]
     },
     "execution_count": 35,
     "metadata": {},
     "output_type": "execute_result"
    }
   ],
   "source": [
    "bounds"
   ]
  },
  {
   "cell_type": "code",
   "execution_count": 36,
   "metadata": {},
   "outputs": [
    {
     "name": "stdout",
     "output_type": "stream",
     "text": [
      "\n",
      " ####### using method .inputs from AcousticDataset ###### \n",
      "\n",
      "\n",
      " ####### using method .segment_and_stack from AcousticDataset ###### \n",
      "\n",
      "\n",
      " ####### using method .segment_and_stack from AcousticDatafile ###### \n",
      "\n",
      "\n",
      " ####### using method .segment_and_stack from AcousticDatafile ###### \n",
      "\n",
      "\n",
      " ####### using method .segment_and_stack from AcousticDatafile ###### \n",
      "\n",
      "\n",
      " ####### using method .segment_and_stack from AcousticDatafile ###### \n",
      "\n",
      "\n",
      " ####### using method .segment_and_stack from AcousticDatafile ###### \n",
      "\n",
      "\n",
      " ####### using method .segment_and_stack from AcousticDatafile ###### \n",
      "\n",
      "\n",
      " ####### using method .segment_and_stack from AcousticDatafile ###### \n",
      "\n",
      "\n",
      " ####### using method .segment_and_stack from AcousticDatafile ###### \n",
      "\n"
     ]
    },
    {
     "ename": "ValueError",
     "evalue": "all the input array dimensions for the concatenation axis must match exactly, but along dimension 1, the array at index 0 has size 43510 and the array at index 1 has size 56370",
     "output_type": "error",
     "traceback": [
      "\u001b[1;31m---------------------------------------------------------------------------\u001b[0m",
      "\u001b[1;31mValueError\u001b[0m                                Traceback (most recent call last)",
      "\u001b[1;32m<ipython-input-36-eb84b47ad76b>\u001b[0m in \u001b[0;36m<module>\u001b[1;34m\u001b[0m\n\u001b[1;32m----> 1\u001b[1;33m \u001b[0mdataset\u001b[0m\u001b[1;33m.\u001b[0m\u001b[0minputs\u001b[0m\u001b[1;33m(\u001b[0m\u001b[1;33m)\u001b[0m\u001b[1;33m\u001b[0m\u001b[1;33m\u001b[0m\u001b[0m\n\u001b[0m",
      "\u001b[1;32mD:\\model\\dnnseg\\data.py\u001b[0m in \u001b[0;36minputs\u001b[1;34m(self, segments, max_len, padding, reverse, normalize, center, resample)\u001b[0m\n\u001b[0;32m    773\u001b[0m             \u001b[0mnormalize\u001b[0m\u001b[1;33m=\u001b[0m\u001b[1;32mFalse\u001b[0m\u001b[1;33m,\u001b[0m\u001b[1;33m\u001b[0m\u001b[1;33m\u001b[0m\u001b[0m\n\u001b[0;32m    774\u001b[0m             \u001b[0mcenter\u001b[0m\u001b[1;33m=\u001b[0m\u001b[1;32mFalse\u001b[0m\u001b[1;33m,\u001b[0m\u001b[1;33m\u001b[0m\u001b[1;33m\u001b[0m\u001b[0m\n\u001b[1;32m--> 775\u001b[1;33m             \u001b[0mresample\u001b[0m\u001b[1;33m=\u001b[0m\u001b[1;32mNone\u001b[0m\u001b[1;33m\u001b[0m\u001b[1;33m\u001b[0m\u001b[0m\n\u001b[0m\u001b[0;32m    776\u001b[0m     ):\n\u001b[0;32m    777\u001b[0m         \u001b[0mprint\u001b[0m\u001b[1;33m(\u001b[0m\u001b[1;34m\"\\n ####### using method .inputs from AcousticDataset ###### \\n\"\u001b[0m\u001b[1;33m)\u001b[0m\u001b[1;33m\u001b[0m\u001b[1;33m\u001b[0m\u001b[0m\n",
      "\u001b[1;32mD:\\model\\dnnseg\\data.py\u001b[0m in \u001b[0;36msegment_and_stack\u001b[1;34m(self, segments, max_len, padding, reverse, normalize, center, with_deltas, resample)\u001b[0m\n\u001b[0;32m    751\u001b[0m \u001b[1;33m\u001b[0m\u001b[0m\n\u001b[0;32m    752\u001b[0m         \u001b[1;32mif\u001b[0m \u001b[0mpad_seqs\u001b[0m\u001b[1;33m:\u001b[0m\u001b[1;33m\u001b[0m\u001b[1;33m\u001b[0m\u001b[0m\n\u001b[1;32m--> 753\u001b[1;33m             \u001b[1;32mif\u001b[0m \u001b[0mpadding\u001b[0m \u001b[1;32mnot\u001b[0m \u001b[1;32min\u001b[0m \u001b[1;33m[\u001b[0m\u001b[1;34m'None'\u001b[0m\u001b[1;33m,\u001b[0m \u001b[1;32mNone\u001b[0m\u001b[1;33m]\u001b[0m\u001b[1;33m:\u001b[0m\u001b[1;33m\u001b[0m\u001b[1;33m\u001b[0m\u001b[0m\n\u001b[0m\u001b[0;32m    754\u001b[0m                 \u001b[0mmax_len\u001b[0m \u001b[1;33m=\u001b[0m \u001b[1;36m0\u001b[0m\u001b[1;33m\u001b[0m\u001b[1;33m\u001b[0m\u001b[0m\n\u001b[0;32m    755\u001b[0m                 \u001b[1;32mfor\u001b[0m \u001b[0mf\u001b[0m \u001b[1;32min\u001b[0m \u001b[0mfeats\u001b[0m\u001b[1;33m:\u001b[0m\u001b[1;33m\u001b[0m\u001b[1;33m\u001b[0m\u001b[0m\n",
      "\u001b[1;32m<__array_function__ internals>\u001b[0m in \u001b[0;36mconcatenate\u001b[1;34m(*args, **kwargs)\u001b[0m\n",
      "\u001b[1;31mValueError\u001b[0m: all the input array dimensions for the concatenation axis must match exactly, but along dimension 1, the array at index 0 has size 43510 and the array at index 1 has size 56370"
     ]
    }
   ],
   "source": [
    "dataset.inputs()"
   ]
  },
  {
   "cell_type": "code",
   "execution_count": null,
   "metadata": {},
   "outputs": [],
   "source": []
  }
 ],
 "metadata": {
  "kernelspec": {
   "display_name": "dnnseg",
   "language": "python",
   "name": "dnnseg"
  },
  "language_info": {
   "codemirror_mode": {
    "name": "ipython",
    "version": 3
   },
   "file_extension": ".py",
   "mimetype": "text/x-python",
   "name": "python",
   "nbconvert_exporter": "python",
   "pygments_lexer": "ipython3",
   "version": "3.6.13"
  }
 },
 "nbformat": 4,
 "nbformat_minor": 4
}
